{
 "cells": [
  {
   "cell_type": "markdown",
   "id": "fc065ad2",
   "metadata": {},
   "source": [
    "# Python Script Tinkering"
   ]
  },
  {
   "cell_type": "markdown",
   "id": "4d04e645",
   "metadata": {},
   "source": [
    "Setting the working directory to the home directory of the project\n"
   ]
  },
  {
   "cell_type": "code",
   "execution_count": 1,
   "id": "4ed55838",
   "metadata": {},
   "outputs": [
    {
     "name": "stdout",
     "output_type": "stream",
     "text": [
      "G:\\My Drive\\Sorted\\Professional\\Work\\Rehab_lab_2021\\projects\\reversal_learning\n"
     ]
    }
   ],
   "source": [
    "%cd ../../../.."
   ]
  },
  {
   "cell_type": "markdown",
   "id": "da89f9f4",
   "metadata": {},
   "source": [
    "## Goals:"
   ]
  },
  {
   "cell_type": "markdown",
   "id": "09affb10",
   "metadata": {},
   "source": [
    "- To figure out what the Python scripts are doing"
   ]
  },
  {
   "cell_type": "markdown",
   "id": "ecf5163f",
   "metadata": {},
   "source": [
    "## Testing out functions"
   ]
  },
  {
   "cell_type": "code",
   "execution_count": 2,
   "id": "bffb9217",
   "metadata": {},
   "outputs": [],
   "source": [
    "from MRI.pythonscript import id_new_python_3"
   ]
  },
  {
   "cell_type": "code",
   "execution_count": 3,
   "id": "3da139bf",
   "metadata": {},
   "outputs": [],
   "source": [
    "import random\n",
    "import collections "
   ]
  },
  {
   "cell_type": "markdown",
   "id": "47764a4e",
   "metadata": {},
   "source": [
    "- Checks for every item if the next item in the list is identical or not"
   ]
  },
  {
   "cell_type": "code",
   "execution_count": 4,
   "id": "cbde3ae2",
   "metadata": {},
   "outputs": [],
   "source": [
    "MainList = [\"L\",\"R\",\"T\", \"C\", \"B\",\"W\"]"
   ]
  },
  {
   "cell_type": "code",
   "execution_count": 5,
   "id": "941a42bf",
   "metadata": {},
   "outputs": [
    {
     "data": {
      "text/plain": [
       "True"
      ]
     },
     "execution_count": 5,
     "metadata": {},
     "output_type": "execute_result"
    }
   ],
   "source": [
    "id_new_python_3.check_if_neighbor_item_is_different(MainList)"
   ]
  },
  {
   "cell_type": "code",
   "execution_count": 6,
   "id": "7951bda8",
   "metadata": {},
   "outputs": [
    {
     "data": {
      "text/plain": [
       "False"
      ]
     },
     "execution_count": 6,
     "metadata": {},
     "output_type": "execute_result"
    }
   ],
   "source": [
    "id_new_python_3.check_if_neighbor_item_is_different([\"l\", \"l\", \"0\"])"
   ]
  },
  {
   "cell_type": "markdown",
   "id": "27006482",
   "metadata": {},
   "source": [
    "- Making a list of numbers where the number of numbers are the same through out each n-number slice\n",
    "    - Currently it is 50% for 4, 25% for 5, and 25% for 6"
   ]
  },
  {
   "cell_type": "code",
   "execution_count": 7,
   "id": "2cf7599a",
   "metadata": {
    "scrolled": false
   },
   "outputs": [],
   "source": [
    "example_criteria_list = id_new_python_3.make_close_criteria_list(number_per_group=8)"
   ]
  },
  {
   "cell_type": "code",
   "execution_count": 8,
   "id": "d2edb66c",
   "metadata": {
    "scrolled": true
   },
   "outputs": [
    {
     "data": {
      "text/plain": [
       "[4,\n",
       " 4,\n",
       " 6,\n",
       " 4,\n",
       " 5,\n",
       " 4,\n",
       " 5,\n",
       " 4,\n",
       " 4,\n",
       " 6,\n",
       " 4,\n",
       " 5,\n",
       " 6,\n",
       " 5,\n",
       " 4,\n",
       " 4,\n",
       " 5,\n",
       " 4,\n",
       " 6,\n",
       " 4,\n",
       " 5,\n",
       " 4,\n",
       " 6,\n",
       " 4,\n",
       " 6,\n",
       " 5,\n",
       " 4,\n",
       " 5,\n",
       " 4,\n",
       " 6,\n",
       " 4,\n",
       " 6]"
      ]
     },
     "execution_count": 8,
     "metadata": {},
     "output_type": "execute_result"
    }
   ],
   "source": [
    "example_criteria_list"
   ]
  },
  {
   "cell_type": "markdown",
   "id": "3a5e9dc4",
   "metadata": {},
   "source": [
    "- Each 8 number slice has approximately 50% for 4, 25% for 5, and 25% for 6, plus or minus 1 for each number"
   ]
  },
  {
   "cell_type": "code",
   "execution_count": 9,
   "id": "f9d5df32",
   "metadata": {
    "scrolled": true
   },
   "outputs": [
    {
     "data": {
      "text/plain": [
       "[OrderedDict([(4, 5), (5, 2), (6, 1)]),\n",
       " OrderedDict([(4, 5), (5, 2), (6, 1)]),\n",
       " OrderedDict([(4, 4), (5, 2), (6, 2)]),\n",
       " OrderedDict([(4, 5), (5, 2), (6, 1)]),\n",
       " OrderedDict([(4, 4), (5, 3), (6, 1)]),\n",
       " OrderedDict([(4, 4), (5, 2), (6, 2)]),\n",
       " OrderedDict([(4, 3), (5, 3), (6, 2)]),\n",
       " OrderedDict([(4, 4), (5, 2), (6, 2)]),\n",
       " OrderedDict([(4, 4), (5, 2), (6, 2)]),\n",
       " OrderedDict([(4, 3), (5, 3), (6, 2)]),\n",
       " OrderedDict([(4, 4), (5, 3), (6, 1)]),\n",
       " OrderedDict([(4, 3), (5, 3), (6, 2)]),\n",
       " OrderedDict([(4, 4), (5, 2), (6, 2)]),\n",
       " OrderedDict([(4, 4), (5, 3), (6, 1)]),\n",
       " OrderedDict([(4, 5), (5, 2), (6, 1)]),\n",
       " OrderedDict([(4, 4), (5, 2), (6, 2)]),\n",
       " OrderedDict([(4, 4), (5, 2), (6, 2)]),\n",
       " OrderedDict([(4, 4), (5, 1), (6, 3)]),\n",
       " OrderedDict([(4, 3), (5, 2), (6, 3)]),\n",
       " OrderedDict([(4, 4), (5, 2), (6, 2)]),\n",
       " OrderedDict([(4, 3), (5, 3), (6, 2)]),\n",
       " OrderedDict([(4, 4), (5, 2), (6, 2)]),\n",
       " OrderedDict([(4, 3), (5, 2), (6, 3)]),\n",
       " OrderedDict([(4, 4), (5, 2), (6, 2)])]"
      ]
     },
     "execution_count": 9,
     "metadata": {},
     "output_type": "execute_result"
    }
   ],
   "source": [
    "id_new_python_3.calculate_moving_averages(example_criteria_list)"
   ]
  },
  {
   "cell_type": "markdown",
   "id": "9e323176",
   "metadata": {},
   "source": [
    "- You can also create lists that have the exact ratio for each slice, but this takes a lot more time to create so is not recommended for smaller slices"
   ]
  },
  {
   "cell_type": "code",
   "execution_count": 10,
   "id": "3e32e109",
   "metadata": {},
   "outputs": [],
   "source": [
    "exact_example_criteria_list = id_new_python_3.make_exact_criteria_list(number_per_group=16)"
   ]
  },
  {
   "cell_type": "code",
   "execution_count": 12,
   "id": "c9b18895",
   "metadata": {},
   "outputs": [
    {
     "data": {
      "text/plain": [
       "True"
      ]
     },
     "execution_count": 12,
     "metadata": {},
     "output_type": "execute_result"
    }
   ],
   "source": [
    "id_new_python_3.check_moving_average_is_exact(list_of_numbers=exact_example_criteria_list, number_per_group=16)"
   ]
  },
  {
   "cell_type": "code",
   "execution_count": 13,
   "id": "f13273b5",
   "metadata": {},
   "outputs": [
    {
     "data": {
      "text/plain": [
       "[OrderedDict([(4, 8), (5, 4), (6, 4)]),\n",
       " OrderedDict([(4, 8), (5, 4), (6, 4)]),\n",
       " OrderedDict([(4, 8), (5, 4), (6, 4)]),\n",
       " OrderedDict([(4, 8), (5, 4), (6, 4)]),\n",
       " OrderedDict([(4, 8), (5, 4), (6, 4)]),\n",
       " OrderedDict([(4, 8), (5, 4), (6, 4)]),\n",
       " OrderedDict([(4, 8), (5, 4), (6, 4)]),\n",
       " OrderedDict([(4, 8), (5, 4), (6, 4)]),\n",
       " OrderedDict([(4, 8), (5, 4), (6, 4)]),\n",
       " OrderedDict([(4, 8), (5, 4), (6, 4)]),\n",
       " OrderedDict([(4, 8), (5, 4), (6, 4)]),\n",
       " OrderedDict([(4, 8), (5, 4), (6, 4)]),\n",
       " OrderedDict([(4, 8), (5, 4), (6, 4)]),\n",
       " OrderedDict([(4, 8), (5, 4), (6, 4)]),\n",
       " OrderedDict([(4, 8), (5, 4), (6, 4)]),\n",
       " OrderedDict([(4, 8), (5, 4), (6, 4)])]"
      ]
     },
     "execution_count": 13,
     "metadata": {},
     "output_type": "execute_result"
    }
   ],
   "source": [
    "id_new_python_3.calculate_moving_averages(exact_example_criteria_list, number_per_group=16)"
   ]
  },
  {
   "cell_type": "code",
   "execution_count": null,
   "id": "356b1ec9",
   "metadata": {},
   "outputs": [],
   "source": []
  }
 ],
 "metadata": {
  "kernelspec": {
   "display_name": "Python 3 (ipykernel)",
   "language": "python",
   "name": "python3"
  },
  "language_info": {
   "codemirror_mode": {
    "name": "ipython",
    "version": 3
   },
   "file_extension": ".py",
   "mimetype": "text/x-python",
   "name": "python",
   "nbconvert_exporter": "python",
   "pygments_lexer": "ipython3",
   "version": "3.9.5"
  }
 },
 "nbformat": 4,
 "nbformat_minor": 5
}
