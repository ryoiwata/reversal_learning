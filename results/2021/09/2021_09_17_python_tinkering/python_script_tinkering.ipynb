{
 "cells": [
  {
   "cell_type": "markdown",
   "id": "6a6d13b9",
   "metadata": {},
   "source": [
    "# Python Script Tinkering"
   ]
  },
  {
   "cell_type": "markdown",
   "id": "540ff132",
   "metadata": {},
   "source": [
    "Setting the working directory to the home directory of the project\n"
   ]
  },
  {
   "cell_type": "code",
   "execution_count": 1,
   "id": "4f21bd1f",
   "metadata": {},
   "outputs": [
    {
     "name": "stdout",
     "output_type": "stream",
     "text": [
      "/media/mcuser/Data2/Iwata/projects/reversal_learning\n"
     ]
    }
   ],
   "source": [
    "%cd ../../../.."
   ]
  },
  {
   "cell_type": "markdown",
   "id": "4a89b72e",
   "metadata": {},
   "source": [
    "## Goals:"
   ]
  },
  {
   "cell_type": "markdown",
   "id": "a8990cfb",
   "metadata": {},
   "source": [
    "- To figure out what the Python scripts are doing"
   ]
  },
  {
   "cell_type": "markdown",
   "id": "b06bcdcf",
   "metadata": {},
   "source": [
    "## Testing out functions"
   ]
  },
  {
   "cell_type": "code",
   "execution_count": 2,
   "id": "115849a6",
   "metadata": {},
   "outputs": [],
   "source": [
    "from MRI.pythonscript import id_new_python_3"
   ]
  },
  {
   "cell_type": "markdown",
   "id": "c4d43418",
   "metadata": {},
   "source": [
    "- Checks for every item if the next item in the list is identical or not"
   ]
  },
  {
   "cell_type": "code",
   "execution_count": 3,
   "id": "2bd1bffc",
   "metadata": {},
   "outputs": [],
   "source": [
    "MainList = [\"L\",\"R\",\"T\", \"C\", \"B\",\"W\"]"
   ]
  },
  {
   "cell_type": "code",
   "execution_count": 4,
   "id": "eb89264c",
   "metadata": {},
   "outputs": [
    {
     "data": {
      "text/plain": [
       "True"
      ]
     },
     "execution_count": 4,
     "metadata": {},
     "output_type": "execute_result"
    }
   ],
   "source": [
    "id_new_python_3.checkTwoNearest(MainList)"
   ]
  },
  {
   "cell_type": "code",
   "execution_count": 5,
   "id": "96cd5c56",
   "metadata": {},
   "outputs": [
    {
     "data": {
      "text/plain": [
       "False"
      ]
     },
     "execution_count": 5,
     "metadata": {},
     "output_type": "execute_result"
    }
   ],
   "source": [
    "id_new_python_3.checkTwoNearest([\"l\", \"l\", \"0\"])"
   ]
  },
  {
   "cell_type": "markdown",
   "id": "a659bc8a",
   "metadata": {},
   "source": [
    "- Test Exact Moving Average\n",
    "    - TODO after make Criteria List"
   ]
  },
  {
   "cell_type": "code",
   "execution_count": 8,
   "id": "de40a0c3",
   "metadata": {},
   "outputs": [],
   "source": [
    "number_of_groups = 12"
   ]
  },
  {
   "cell_type": "code",
   "execution_count": 7,
   "id": "5a973728",
   "metadata": {},
   "outputs": [],
   "source": [
    "\n",
    "num_list_1 = [5, 4, 5, 5, 6, 4, 5, 4, 4, 6, 4, 6, 6, 4, 6, 4, 6, 4, 4, 5, 4, 5, 4, 5, 5, 4, 4, 6, 4, 4]\n",
    "\n",
    "num_list_2 = [9, 9, 8, 8, 10, 8, 10, 10, 8, 9, 9, 8, 8, 9, 8, 10, 8, 8, 10, 8, 10, 9, 10, 8, 8, 9, 8, 8, 9, 8]"
   ]
  },
  {
   "cell_type": "code",
   "execution_count": 11,
   "id": "ee40c89d",
   "metadata": {},
   "outputs": [
    {
     "name": "stdout",
     "output_type": "stream",
     "text": [
      "2\n"
     ]
    },
    {
     "data": {
      "text/plain": [
       "False"
      ]
     },
     "execution_count": 11,
     "metadata": {},
     "output_type": "execute_result"
    }
   ],
   "source": [
    "id_new_python_3.testExactMovingAverage(num_list_1, 2)"
   ]
  },
  {
   "cell_type": "code",
   "execution_count": 12,
   "id": "69b33ce9",
   "metadata": {},
   "outputs": [],
   "source": [
    "def testExactMovingAverage(inList, group):\n",
    "\t'''Test if the moving average is exact for the group\n",
    "\t'''\n",
    "\trtnVal = True\n",
    "\tpct50 = group/2\n",
    "\tpct25 = group/4\n",
    "\tfor i in range(len(inList)-group):\n",
    "\n",
    "        \n",
    "        myList = inList[i:(group+i)]\n",
    "\t\tif( (myList.count(4) - pct50) == 0 ):\n",
    "\t\tif( (myList.count(5) - pct25) == 0 ):\n",
    "\t\t\t\tif( (myList.count(6) - pct25) == 0 ):\n",
    "\t\t\t\t \tpass\n",
    "\t\telse:\n",
    "\t\t\trtnVal = False\n",
    "\t\t\tbreak\n",
    "\tif(rtnVal == True):\n",
    "\t\tprint(\"PASSED - moving avg. \", group, \" : \" , inList)\n",
    "\telse:\n",
    "\t\tprint(i)\n",
    "\treturn rtnVal"
   ]
  },
  {
   "cell_type": "markdown",
   "id": "05fff644",
   "metadata": {},
   "source": [
    "- Making criteria lists"
   ]
  },
  {
   "cell_type": "code",
   "execution_count": 16,
   "id": "8ad84456",
   "metadata": {},
   "outputs": [],
   "source": [
    "import copy"
   ]
  },
  {
   "cell_type": "code",
   "execution_count": 24,
   "id": "a71bf926",
   "metadata": {},
   "outputs": [],
   "source": [
    "import random"
   ]
  },
  {
   "cell_type": "code",
   "execution_count": 29,
   "id": "c9d818e7",
   "metadata": {},
   "outputs": [],
   "source": [
    "def make_criteria_list(list_of_numbers=None, number_of_groups=8):\n",
    "    \"\"\"\n",
    "    Makes a criteria list based on shuffling a list of numbers \n",
    "    until the correct number of numbers in each contigous element\n",
    "    \n",
    "    Parameters\n",
    "    ----------\n",
    "    number_of_groups: int\n",
    "    \"\"\"\n",
    "    \n",
    "    if list_of_numbers is None:\n",
    "        list_of_numbers = [4] * 17 + [5] * 8 + [6] * 8\n",
    "    \n",
    "    while not id_new_python_3.checkApproxMovingAverage(list_of_numbers, number_of_groups):    \n",
    "        random.shuffle(list_of_numbers)\n",
    "    return list_of_numbers \n",
    " "
   ]
  },
  {
   "cell_type": "code",
   "execution_count": 28,
   "id": "c8853ce0",
   "metadata": {
    "scrolled": false
   },
   "outputs": [
    {
     "name": "stdout",
     "output_type": "stream",
     "text": [
      "Passed moving avg.  8\n"
     ]
    },
    {
     "data": {
      "text/plain": [
       "[5,\n",
       " 5,\n",
       " 4,\n",
       " 4,\n",
       " 6,\n",
       " 4,\n",
       " 4,\n",
       " 4,\n",
       " 5,\n",
       " 6,\n",
       " 6,\n",
       " 5,\n",
       " 4,\n",
       " 4,\n",
       " 4,\n",
       " 5,\n",
       " 4,\n",
       " 6,\n",
       " 6,\n",
       " 6,\n",
       " 4,\n",
       " 4,\n",
       " 4,\n",
       " 6,\n",
       " 5,\n",
       " 4,\n",
       " 5,\n",
       " 4,\n",
       " 4,\n",
       " 4,\n",
       " 6,\n",
       " 5,\n",
       " 4]"
      ]
     },
     "execution_count": 28,
     "metadata": {},
     "output_type": "execute_result"
    }
   ],
   "source": [
    "make_criteria_list()"
   ]
  },
  {
   "cell_type": "code",
   "execution_count": 13,
   "id": "579bd436",
   "metadata": {},
   "outputs": [
    {
     "name": "stdout",
     "output_type": "stream",
     "text": [
      "2\n"
     ]
    },
    {
     "data": {
      "text/plain": [
       "False"
      ]
     },
     "execution_count": 13,
     "metadata": {},
     "output_type": "execute_result"
    }
   ],
   "source": [
    "testExactMovingAverage(num_list_1, 2)"
   ]
  },
  {
   "cell_type": "code",
   "execution_count": 14,
   "id": "24a3b965",
   "metadata": {},
   "outputs": [
    {
     "name": "stdout",
     "output_type": "stream",
     "text": [
      "Passed moving avg.  8\n",
      "[6, 6, 4, 5, 5, 4, 5, 4, 5, 4, 4, 6, 4, 4, 6, 4, 5, 5, 4, 4, 6, 4, 6, 4, 4, 5, 6, 4, 4, 4, 6, 4, 5]\n"
     ]
    },
    {
     "data": {
      "text/plain": [
       "[6,\n",
       " 6,\n",
       " 4,\n",
       " 5,\n",
       " 5,\n",
       " 4,\n",
       " 5,\n",
       " 4,\n",
       " 5,\n",
       " 4,\n",
       " 4,\n",
       " 6,\n",
       " 4,\n",
       " 4,\n",
       " 6,\n",
       " 4,\n",
       " 5,\n",
       " 5,\n",
       " 4,\n",
       " 4,\n",
       " 6,\n",
       " 4,\n",
       " 6,\n",
       " 4,\n",
       " 4,\n",
       " 5,\n",
       " 6,\n",
       " 4,\n",
       " 4,\n",
       " 4,\n",
       " 6,\n",
       " 4,\n",
       " 5]"
      ]
     },
     "execution_count": 14,
     "metadata": {},
     "output_type": "execute_result"
    }
   ],
   "source": [
    "id_new_python_3.makeCriteriaList()"
   ]
  },
  {
   "cell_type": "code",
   "execution_count": 15,
   "id": "a4fc8304",
   "metadata": {},
   "outputs": [
    {
     "name": "stdout",
     "output_type": "stream",
     "text": [
      "Passed moving avg.  8\n",
      "[4, 6, 4, 6, 4, 4, 4, 5, 5, 5, 6, 5, 4, 4, 4, 6, 4, 5, 6, 4, 4, 4, 5, 4, 4, 6, 6, 5, 4, 4, 4, 5, 6]\n"
     ]
    },
    {
     "data": {
      "text/plain": [
       "[4,\n",
       " 6,\n",
       " 4,\n",
       " 6,\n",
       " 4,\n",
       " 4,\n",
       " 4,\n",
       " 5,\n",
       " 5,\n",
       " 5,\n",
       " 6,\n",
       " 5,\n",
       " 4,\n",
       " 4,\n",
       " 4,\n",
       " 6,\n",
       " 4,\n",
       " 5,\n",
       " 6,\n",
       " 4,\n",
       " 4,\n",
       " 4,\n",
       " 5,\n",
       " 4,\n",
       " 4,\n",
       " 6,\n",
       " 6,\n",
       " 5,\n",
       " 4,\n",
       " 4,\n",
       " 4,\n",
       " 5,\n",
       " 6]"
      ]
     },
     "execution_count": 15,
     "metadata": {},
     "output_type": "execute_result"
    }
   ],
   "source": [
    "id_new_python_3.makeCriteriaList()"
   ]
  },
  {
   "cell_type": "code",
   "execution_count": null,
   "id": "26734224",
   "metadata": {},
   "outputs": [],
   "source": []
  }
 ],
 "metadata": {
  "kernelspec": {
   "display_name": "Python 3 (ipykernel)",
   "language": "python",
   "name": "python3"
  },
  "language_info": {
   "codemirror_mode": {
    "name": "ipython",
    "version": 3
   },
   "file_extension": ".py",
   "mimetype": "text/x-python",
   "name": "python",
   "nbconvert_exporter": "python",
   "pygments_lexer": "ipython3",
   "version": "3.8.11"
  }
 },
 "nbformat": 4,
 "nbformat_minor": 5
}
